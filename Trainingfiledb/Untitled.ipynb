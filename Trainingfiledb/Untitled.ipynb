{
 "cells": [
  {
   "cell_type": "code",
   "execution_count": 1,
   "id": "70cd75d4",
   "metadata": {},
   "outputs": [],
   "source": [
    "import pandas as pd #train file of Trainingfiledb\n"
   ]
  },
  {
   "cell_type": "code",
   "execution_count": 2,
   "id": "6d637f2e",
   "metadata": {},
   "outputs": [],
   "source": [
    "data=pd.read_csv('Inputfile.csv')"
   ]
  },
  {
   "cell_type": "code",
   "execution_count": 3,
   "id": "61424b7f",
   "metadata": {},
   "outputs": [
    {
     "name": "stdout",
     "output_type": "stream",
     "text": [
      "Unique elements in column bruises : ['f' 't']\n",
      "Unique elements in column capcolor : ['g' 'n' 'w' 'y']\n",
      "Unique elements in column class : ['e' 'p']\n",
      "Unique elements in column capshape : ['f' 's' 'x' 'b']\n",
      "Unique elements in column capsurface : ['f' 's' 'y']\n",
      "Unique elements in column gillattachment : ['f']\n",
      "Unique elements in column gillcolor : ['g' 'h' 'k' 'n' 'p' 'w']\n",
      "Unique elements in column gillsize : ['n' 'b']\n",
      "Unique elements in column gillspacing : ['c' 'w']\n",
      "Unique elements in column habitat : ['u' 'g' 'p' 'd' 'm']\n",
      "Unique elements in column odor : ['n' 'a' 'l' 'p']\n",
      "Unique elements in column population : ['v' 'y' 'a' 's' 'n']\n",
      "Unique elements in column ringnumber : ['o']\n",
      "Unique elements in column ringtype : ['p' 'e']\n",
      "Unique elements in column sporeprintcolor : ['k' 'n' 'u']\n",
      "Unique elements in column stalkcolorabovering : ['w' 'g' 'p']\n",
      "Unique elements in column stalkcolorbelowring : ['w' 'p']\n",
      "Unique elements in column stalkroot : ['e' 'r' 'b' 'c']\n",
      "Unique elements in column stalkshape : ['e' 't']\n",
      "Unique elements in column stalksurfaceabovering : ['s' 'f']\n",
      "Unique elements in column stalksurfacebelowring : ['s' 'f' 'y']\n",
      "Unique elements in column veilcolor : ['w']\n",
      "Unique elements in column veiltype : ['p']\n"
     ]
    }
   ],
   "source": [
    "for columns in data.columns:\n",
    "    uniqurelement=data[columns].unique()\n",
    "    print(\"Unique elements in column\", columns, \":\", uniqurelement)"
   ]
  },
  {
   "cell_type": "code",
   "execution_count": null,
   "id": "23a8994b",
   "metadata": {},
   "outputs": [],
   "source": []
  }
 ],
 "metadata": {
  "kernelspec": {
   "display_name": "Python 3 (ipykernel)",
   "language": "python",
   "name": "python3"
  },
  "language_info": {
   "codemirror_mode": {
    "name": "ipython",
    "version": 3
   },
   "file_extension": ".py",
   "mimetype": "text/x-python",
   "name": "python",
   "nbconvert_exporter": "python",
   "pygments_lexer": "ipython3",
   "version": "3.11.2"
  }
 },
 "nbformat": 4,
 "nbformat_minor": 5
}
